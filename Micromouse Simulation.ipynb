{
 "cells": [
  {
   "cell_type": "code",
   "execution_count": 1,
   "metadata": {
    "collapsed": true
   },
   "outputs": [],
   "source": [
    "import matplotlib.pyplot as plt\n",
    "%matplotlib inline"
   ]
  },
  {
   "cell_type": "code",
   "execution_count": 2,
   "metadata": {
    "collapsed": false
   },
   "outputs": [],
   "source": [
    "from Robot import Robot\n",
    "from Models import BenchmarkBot, BetterBenchmarkBot, ManhattanBot, CautiousBot, FrontierBot, PotentialBot\n",
    "from Maze import Maze\n",
    "from maze_generator import prim, print_maze, save_maze, open_maze\n"
   ]
  },
  {
   "cell_type": "markdown",
   "metadata": {},
   "source": [
    "# Definition\n",
    "\n",
    "## Project Overview\n",
    "In order for a robot to move around in its environment, it needs to do several things. It must:\n",
    "- Track its own position.\n",
    "- Translate sensor data into a map of its surroundings.\n",
    "- Find a path to its objective.\n",
    "\n",
    "Additionally, if the area is not already mapped out, the robot must explore the area and develop its own map. Each of these operations is critical for a robot to safely and effectively move through its environment. Thus, it is important to develop algorithms to accomplish these objectives. A good way to experiment and explore possible solutions to the problem of motion planning is by simulating a robot and its environment. This project is inspired by the Micromouse competitions, where a robot must explore and solve a maze.\n",
    "\n",
    "## Problem Statement\n",
    "\n",
    "The problem considered here is to implement an algorithm that will allow the simulated micromouse robot to solve the maze as quickly as possible. The robot gets two runs: one in which to explore the maze and determine an optimal route, and a second run in which to move from the starting location to the goal in the shortest number of steps. The score will be the number of steps required to reach the goal in the second run plus 1/30th of the number of steps used to explore the maze in the first run. The simulated robot should be able to solve any arbitrary maze presented to it.\n",
    "\n",
    "## Metrics\n",
    "\n",
    "The scoring metric for this project is defined as follows: _On each maze, the robot must complete two runs. In the first run, the robot is allowed to freely roam the maze to build a map of the maze. It must enter the goal room at some point during its exploration, but is free to continue exploring the maze after finding the goal. After entering the goal room, the robot may choose to end its exploration at any time. The robot is then moved back to the starting position and orientation for its second run. Its objective now is to go from the start position to the goal room in the fastest time possible. The robot’s score for the maze is equal to the number of time steps required to execute the second run, plus one thirtieth the number of time steps required to execute the first run. A maximum of one thousand time steps are allotted to complete both runs for a single maze._\n",
    "\n",
    "This is a simple and objective measurement of the robot's performance. If the robot's behavior is at all random or stochastic, then it will be desirable to find an average score over many runs of the same maze to get a more accurate assessment. There are three test mazes provided, and these will be used to score the simulated micromouse robot. But it will also be possible, and desirable, to generate additional test mazes."
   ]
  },
  {
   "cell_type": "markdown",
   "metadata": {},
   "source": [
    "# Analysis\n",
    "\n",
    "## Data Exploration and Visualization\n",
    "### Test Mazes 1 - 3\n",
    "\n",
    "Three test mazes are prvided with this project.  They are denoted 'test_maze_01', 'test_maze_02', 'test_maze_03'.  They are displayed below.  The goal area for each maze is the set of 4 squares at the center.  The starting position for the robot is the bottom left corner, at (0,0), facing up."
   ]
  },
  {
   "cell_type": "code",
   "execution_count": 57,
   "metadata": {
    "collapsed": false
   },
   "outputs": [
    {
     "data": {
      "image/png": "[encoded data removed]",
      "text/plain": [
       "<matplotlib.figure.Figure at 0x8c6d470>"
      ]
     },
     "metadata": {},
     "output_type": "display_data"
    }
   ],
   "source": [
    "show_mazes(['test_maze_01.txt', 'test_maze_02.txt', 'test_maze_03.txt'])"
   ]
  },
  {
   "cell_type": "markdown",
   "metadata": {},
   "source": [
    "The first maze is 12x12.  This maze is notable for requiring the robot to travel a long way around the outer areas of the maze.  In order to reach the goal, the robot will have to find it's way around the top, at (9,11), or around the bottom at (11,0).\n",
    "\n",
    "The second maze is 16x16, the typical size of mazes in actual Micromouse competitions.  Similar to the first maze, the robot will have to find a long path around the outer areas.  But this maze also has a high number of dead ends.\n",
    "\n",
    "The third maze is also 16x16.  This maze has many long corridors, dead ends, and broken up walls that could trap the robot into a closed loop.  \n",
    "\n",
    "Since the robot can move up to three spaces in one step, this will have the effect of penalizing winding paths, and the robot will prefer straight lines.  \n",
    "\n",
    "### Other Mazes\n",
    "In addition to the supplied test mazes, we can generate our own to perform additional tests.  A simple baseline is an empty, 12x12 maze.  I also created a maze with many dead-ends and long passages, to see how different algorithms respond to this.\n",
    "\n",
    "There are a number of algorithms for randomly generating mazes.  In the file maze_generator.py, I impletmented a version of Prim's minimum spanning tree algorithm to generate a random maze of any size.  I used this to generate a much larger maze of size 30x30 to see how different alogithms repsond.\n",
    "\n",
    "These mazes are illustrated below."
   ]
  },
  {
   "cell_type": "code",
   "execution_count": 102,
   "metadata": {
    "collapsed": false
   },
   "outputs": [
    {
     "data": {
      "image/png": "[encoded data removed]",
      "text/plain": [
       "<matplotlib.figure.Figure at 0xdc87630>"
      ]
     },
     "metadata": {},
     "output_type": "display_data"
    }
   ],
   "source": [
    "show_mazes(['open_maze_12.txt', 'custom_maze_02.txt', 'custom_maze_03.txt'])"
   ]
  },
  {
   "cell_type": "markdown",
   "metadata": {},
   "source": [
    "## Algorithms and Techniques\n",
    "\n",
    "An important task for this project is to find the shortest path between two places in the maze.  This can be thought of as finding the shortest path between two nodes of a graph.  And since every movement requires one step, we do not need to consider different movement costs.  So a simple breadth first search is sufficient to find the shortest path. This will be performed on the second run, once the maze has been mapped.\n",
    "\n",
    "To map the maze, on the first run, at each step, the sensor data must be used to create a map.  Knowing the distance to the wall in each direction means the robot can determine all valid moves.  Additionally, if the wall is far enough away, the robot can determine something about the spaces ahead of it.  \n",
    "\n",
    "In this project, I examine several different heuristics for exploring the maze.  The code for each one is contained in the Models.py file, and they are explained below in the Models and Refinement section below.\n",
    "\n",
    "\n",
    "## Benchmark\n",
    "\n",
    "The benchmark for this model will be a robot designed to randomly choose a valid move at every step.  The number of steps it takes for a completely random walk to reach the goal should serve as a bare minimum standard of performance. If a robot cannot beat a random walk through the maze, then the algorithm is very poor indeed. The goal will be to minimize the score calculated from the length of the two runs through the maze. Although the length of the second run is most heavily weighted by the scoring metric, it is the first run that needs to be most heavily optimized. Therefore, a better benchmark is to randomly explore the map on the first run, and then have the robot follow the shortest available path. Once the maze is mapped out, there is one optimal path length and that will be simple to find. The real challenge is to find a way to most efficiently explore the maze."
   ]
  },
  {
   "cell_type": "markdown",
   "metadata": {},
   "source": [
    "# Methodology\n",
    "\n",
    "## Data Preprocessing\n",
    "\n",
    "For this project, there is no need to preprocess any data.  The input data consists of test mazes, which are text files, containing a series of numbers.  Each number represents a square in the maze, and is a 4-bit binary number, representing whether there is a wall bordering the square on the left, bottom, right or top.\n",
    "\n",
    "## Implementations\n",
    "\n",
    "To implement a simulated robot capable of solving a maze, I start with a base python class called Robot.  This base class contains the methods and attributes that are required of the robot, regardless of the particular solving algorithm.  The full code is contained in the file Robot.py, and I summarize the methods and attributes as follows:\n",
    "### Attributes\n",
    "- `left_turn`, `right_turn` : These two dictionaries map one heading to another, to make it easier to execute turning movements.  For example, `right_turn['up'] = 'right'`, that is, when the current heading is up, turning to the right will change the heading to 'right'.\n",
    "- `dir_move` : This dictionary maps a string representing the heading to an ordered pair of x,y coordinates.  For example, 'up' is mapped to [0, 1].\n",
    "- `location` : a tuple containing the current location of the robot, initialized to `(0,0)`.\n",
    "- `heading` : a string descirbing the current heading of the robot, initialized to `'up'`.\n",
    "- `maze_map` : a dictionary that will contain entries for each square of the maze, and a corresponding set of other accessible squares.  Initally empty, at each step, it will be updated based on sensor input and location.\n",
    "- `visited` : a Counter object to keep track of how many times each space has been visited.\n",
    "- `goal_bounds` : the location of the goal area, based on the maze_dim.\n",
    "- `explore` : a boolean flag to denote when the robot is on the first, exploring run of the maze.\n",
    "- `path` : A list containing the squares on the path to a desired location.  Initialized to an empty list.\n",
    "\n",
    "### Methods\n",
    "- `__init__` : Takes `maze_dim` as an argument, and initializes the attributes above.\n",
    "- `make_connection(self, square_1, square_2)` : alters self.maze_map to reflect that the robot can move from `square_1` to `square_2` and vice versa.\n",
    "- `look_around(self, sensors)` : takes sensor input data, and uses it to update `self.maze_map`.  This will connect squares not only to the robot's current location, but it will also \"look down the hall\".  That is, if the wall ahead is a distance 6 away, even though it can only move 3 squares, the robot will remember that the square 5 spaces away can be reached from the squares 2,3 and 4 spaces away.\n",
    "- `calc_move(self, target)` : determines the correct rotation and distance command to reach the square `target`, taken as an x,y coordinate pair.\n",
    "- `at_goal(self)`: returns true if the robot is in the goal area.\n",
    "- `found_goal(self)`: returns true if the robot has ever visited the goal area.\n",
    "- `path_move(self)`: move the robot to the next square in the list self.path.\n",
    "- `gen_path(self, target=None)`: Uses a breadth first search to find the shortest path to target from the current location.  If no target is given, a path is found to the goal area.  Returns a list of x,y coordinates of each square along the path.\n",
    "- `run_maze(self, mazefile, verbose=True, showplot=True)`: Modified version of the tester.py file.  Tests the robot on the given maze file.  Verbose and showplot flags provide detail of the run.  Returns a calculated score.\n",
    "- `test(self, trials=10, maze_list=None)`: Runs a number of test trials over a list of maze files and prints out average scores for each maze.\n",
    "\n",
    "Critically, the base Robot class is lacking the `next_move(self, sensors)` function.  This function contains the actual algorithm to take sensor data and decide where to move, and is implemented in several child classes which will be described in detail below.  I chose to consoldiate these common attributes and methods in a parent class to avoid duplication of code, and make it easier to experiement with several different algorithms.  All that is necessary is to define a child class, implement the `next_move` function, and all the helper, visualization and testing functions can be re-used.\n",
    "\n",
    "## Models and Refinement\n",
    "The code for these different implementations is contained in the Models.py file.  Each one is discussed in turn, focusing on the exploration algorithm.\n",
    "\n",
    "#### BenchmarkBot\n",
    "My first idea for a benchmark was a completely random robot.  This class implements only the `next_move` function.  It will use the sensors to build a map of the maze, then randomly choose a space within range and move to it.  When it reaches the goal on the first run it will reset.  On the second run, it will do the same thing and move randomly.  In practice, I found this to not be a very good benchmark.  This bot will almost never complete the second run for lack of time.\n",
    "\n",
    "#### BetterBenchmarkBot\n",
    "This is an improvement over the BenchmarkBot.  It still explore the maze randomly, but on the second run, it will use a breadth first search to find the best path to the goal.  So it has a separate `explore_move` function to randomly pick a valid move, but after the `self.explore` flag is set to false, it will follow the shortest path, given its known map.  This will often allow it to complete a test maze in the alotted time.  Since finding the shortest path through a known graph is a simple and solved problem, using this as a benchmark focuses our attention on the exploration process.  This is where we will look to make improvements.\n",
    "\n",
    "#### CautiousBot\n",
    "The mapping and localization functionality is all implemented by the basic Robot class.  What is left is to decide where to explore.  My first idea for an exploring algorithm was a simple heuristic.  Move only one space at a time (hence, CautiousBot), to avoid having to backtrack, and randomly choose a neighboring space that has not been visited before.  If all neighboring spaces have been visited, choose one that has been visited the fewest amount of times.  Additionally, I included a parameter called `explore_frac`, which can force the bot to explore some fraction of the total maze squares before starting the second run.  I expected some tradeoff here.  By exploring more of the maze, the bot could discover a shorter route.  Based on the scoring metric, if more than 30 exploring steps are required to shorten the final path by one movement, this extra exploration will not improve the final score.\n",
    "\n",
    "#### ManhattanBot\n",
    "CautiousBot is biased towards exploring new spaces, but it makes no effort to move towards the goal area.  ManhattanBot instead chooses spaces to explore that get it closer to the goal.  In this implementation, the `explore_move` makes a list of spaces it has seen but not visited before, chooses the closest one to the goal using the Manhattan distance metric, and follows the shortest path to that square.\n",
    "\n",
    "#### FrontierBot\n",
    "While ManhattanBot finds an unknown square closest to the goal, this bot finds an unknown square closest to itself and takes the shortest path there, prioritizing expanding the frontier of unexplored spaces.  This is the most computationally intensive algorithm examined, as it involves running the breadth first search algorithm many more times.  \n",
    "\n",
    "#### PotentialBot\n",
    "This was adapted from the algorithm described by Wyard-Scott and Meng[1].  Each square in the maze is assigned a potential value.  Initially, this is simply the square's distance from the goal.  If a dead-end is found, that square is assigned the max potential.  If there are multiple free directions, the square's potential is doubled.  At each step, the bot chooses to move in the direction of lowest potential.  This continues until the bot reaches the goal."
   ]
  },
  {
   "cell_type": "code",
   "execution_count": null,
   "metadata": {
    "collapsed": true
   },
   "outputs": [],
   "source": []
  },
  {
   "cell_type": "markdown",
   "metadata": {},
   "source": [
    "# Results\n",
    "## Model Evaluation and Validation\n",
    "### Performance Summary\n",
    "The table below summarizes the evaluated performance of each bot in each maze described above."
   ]
  },
  {
   "cell_type": "code",
   "execution_count": 27,
   "metadata": {
    "collapsed": false
   },
   "outputs": [
    {
     "data": {
      "text/html": [
       "<div>\n",
       "<table border=\"1\" class=\"dataframe\">\n",
       "  <thead>\n",
       "    <tr style=\"text-align: right;\">\n",
       "      <th></th>\n",
       "      <th>test_maze_01.txt</th>\n",
       "      <th>test_maze_02.txt</th>\n",
       "      <th>test_maze_03.txt</th>\n",
       "      <th>open_maze_12.txt</th>\n",
       "      <th>custom_maze_02.txt</th>\n",
       "      <th>custom_maze_03.txt</th>\n",
       "    </tr>\n",
       "  </thead>\n",
       "  <tbody>\n",
       "    <tr>\n",
       "      <th>BenchmarkBot</th>\n",
       "      <td>1032.340000</td>\n",
       "      <td>1033.893333</td>\n",
       "      <td>975.293333</td>\n",
       "      <td>86.466667</td>\n",
       "      <td>311.500000</td>\n",
       "      <td>1033.630000</td>\n",
       "    </tr>\n",
       "    <tr>\n",
       "      <th>BetterBenchmarkBot</th>\n",
       "      <td>833.913333</td>\n",
       "      <td>638.566667</td>\n",
       "      <td>838.950000</td>\n",
       "      <td>5.353333</td>\n",
       "      <td>18.136667</td>\n",
       "      <td>1035.366667</td>\n",
       "    </tr>\n",
       "    <tr>\n",
       "      <th>ManhattanBot</th>\n",
       "      <td>35.400000</td>\n",
       "      <td>40.800000</td>\n",
       "      <td>33.900000</td>\n",
       "      <td>4.266667</td>\n",
       "      <td>13.700000</td>\n",
       "      <td>1035.366667</td>\n",
       "    </tr>\n",
       "    <tr>\n",
       "      <th>CautiousBot</th>\n",
       "      <td>22.786667</td>\n",
       "      <td>32.513333</td>\n",
       "      <td>36.086667</td>\n",
       "      <td>5.170000</td>\n",
       "      <td>11.796667</td>\n",
       "      <td>536.500000</td>\n",
       "    </tr>\n",
       "    <tr>\n",
       "      <th>FrontierBot</th>\n",
       "      <td>19.300000</td>\n",
       "      <td>30.333333</td>\n",
       "      <td>31.933333</td>\n",
       "      <td>4.666667</td>\n",
       "      <td>13.100000</td>\n",
       "      <td>48.633333</td>\n",
       "    </tr>\n",
       "    <tr>\n",
       "      <th>PotentialBot</th>\n",
       "      <td>21.933333</td>\n",
       "      <td>30.266667</td>\n",
       "      <td>28.900000</td>\n",
       "      <td>4.166667</td>\n",
       "      <td>10.133333</td>\n",
       "      <td>27.166667</td>\n",
       "    </tr>\n",
       "    <tr>\n",
       "      <th>Shortest Path</th>\n",
       "      <td>17.000000</td>\n",
       "      <td>22.000000</td>\n",
       "      <td>25.000000</td>\n",
       "      <td>4.000000</td>\n",
       "      <td>8.000000</td>\n",
       "      <td>35.000000</td>\n",
       "    </tr>\n",
       "  </tbody>\n",
       "</table>\n",
       "</div>"
      ],
      "text/plain": [
       "                    test_maze_01.txt  test_maze_02.txt  test_maze_03.txt  \\\n",
       "BenchmarkBot             1032.340000       1033.893333        975.293333   \n",
       "BetterBenchmarkBot        833.913333        638.566667        838.950000   \n",
       "ManhattanBot               35.400000         40.800000         33.900000   \n",
       "CautiousBot                22.786667         32.513333         36.086667   \n",
       "FrontierBot                19.300000         30.333333         31.933333   \n",
       "PotentialBot               21.933333         30.266667         28.900000   \n",
       "Shortest Path              17.000000         22.000000         25.000000   \n",
       "\n",
       "                    open_maze_12.txt  custom_maze_02.txt  custom_maze_03.txt  \n",
       "BenchmarkBot               86.466667          311.500000         1033.630000  \n",
       "BetterBenchmarkBot          5.353333           18.136667         1035.366667  \n",
       "ManhattanBot                4.266667           13.700000         1035.366667  \n",
       "CautiousBot                 5.170000           11.796667          536.500000  \n",
       "FrontierBot                 4.666667           13.100000           48.633333  \n",
       "PotentialBot                4.166667           10.133333           27.166667  \n",
       "Shortest Path               4.000000            8.000000           35.000000  "
      ]
     },
     "execution_count": 27,
     "metadata": {},
     "output_type": "execute_result"
    }
   ],
   "source": [
    "table"
   ]
  },
  {
   "cell_type": "markdown",
   "metadata": {},
   "source": [
    "The totally random benchmark was unable to solve most mazes.  But the BetterBenchmark was able to finish all except the largest, so we can better compare it to our different bots.  Each of our agents were able to solve the mazes more quickly than the benchmark, but some performed better than others.\n",
    "\n",
    "## Justification\n",
    "#### ManhattanBot \n",
    "ManhattanBot has the worst performance out of our agents.  Basing our movements on the distance from the goal means this agent is biased towards exploring spaces in the center.  But for many of these mazes, the only way to reach the goal requires exploring the edge areas more.  This is illustrated well by its performance on test_maze_02.  The blue line is the final path that it found, and the red squares indicate explored spaces.  The darker the red, the more times the bot visited that space.\n"
   ]
  },
  {
   "cell_type": "code",
   "execution_count": 3,
   "metadata": {
    "collapsed": false
   },
   "outputs": [
    {
     "data": {
      "text/plain": [
       "40.8"
      ]
     },
     "execution_count": 3,
     "metadata": {},
     "output_type": "execute_result"
    },
    {
     "data": {
      "image/png": "[encoded data removed]",
      "text/plain": [
       "<matplotlib.figure.Figure at 0x782e5f8>"
      ]
     },
     "metadata": {},
     "output_type": "display_data"
    }
   ],
   "source": [
    "ManhattanBot(12).run_maze('test_maze_02.txt', verbose=False)"
   ]
  },
  {
   "cell_type": "markdown",
   "metadata": {},
   "source": [
    "By exploring so often in the center, ManhattanBot was forced to backtrack and waste time during its first run.\n",
    "\n",
    "#### CautiousBot #### \n",
    "CautiousBot shows some improvement.  The randomness in its choices does not bias it to explore one region, and by moving only one space at a time, it looks around all areas.  While this makes it slower, it is less likely to backtrack because it missed a square.  However, being random, this bot can get unlucky, and have to explore nearly the entire maze before finding the goal.  The `explore_frac` parameter turns out to not be very useful.  Below, I plot the average score over ten trial runs of `test_maze_01`, varying `explore_frac` from zero to one.  There is no real improvement in the score with a larger explore factor. And in fact, the performance suffers as `explore_frac` approaches 1, as it is diffifcult to randomly visit every last square."
   ]
  },
  {
   "cell_type": "code",
   "execution_count": 5,
   "metadata": {
    "collapsed": false
   },
   "outputs": [
    {
     "data": {
      "text/plain": [
       "<matplotlib.text.Text at 0x879cef0>"
      ]
     },
     "execution_count": 5,
     "metadata": {},
     "output_type": "execute_result"
    },
    {
     "data": {
      "image/png": "[encoded data removed]",
      "text/plain": [
       "<matplotlib.figure.Figure at 0x8787a20>"
      ]
     },
     "metadata": {},
     "output_type": "display_data"
    }
   ],
   "source": [
    "ef = [0, 0.1, 0.2, 0.3, 0.4, 0.5, 0.6, 0.7, 0.8, 0.9, 1]\n",
    "scores = []\n",
    "for frac in ef:\n",
    "    score = sum([CautiousBot(12, explore_frac=frac).run_maze('test_maze_02.txt', \n",
    "                                                                     verbose=False, showplot=False) for i in range(10)])/10\n",
    "    scores.append(score)      \n",
    "plt.plot(ef, scores)\n",
    "plt.xlabel('Explore Fraction')\n",
    "plt.ylabel('Score')"
   ]
  },
  {
   "cell_type": "markdown",
   "metadata": {},
   "source": [
    "#### FrontierBot ####\n",
    "FrontierBot performs quite well.  This simulation is noticably slower to run, due to the repeated calls to `gen_path()` to determine short paths to unexplored spaces.  In a real robot, whether this is a problem or not would depend on the hardware available.  FrontierBot performed especially well on test_maze_01.  It did not find the exact shortest path, but it spent very little time exploring and found the goal quickly enough to make up for this.\n"
   ]
  },
  {
   "cell_type": "code",
   "execution_count": 29,
   "metadata": {
    "collapsed": false
   },
   "outputs": [
    {
     "name": "stdout",
     "output_type": "stream",
     "text": [
      "Starting run 0.\n",
      "reset recieved.  Robot actually at  [5, 6]\n",
      "Ending first run. Starting next run.\n",
      "Starting run 1.\n",
      "Goal found; run 1 completed!\n",
      "Task complete! Score: 19.300\n",
      "First run: 39, second run: 18\n"
     ]
    },
    {
     "data": {
      "text/plain": [
       "19.3"
      ]
     },
     "execution_count": 29,
     "metadata": {},
     "output_type": "execute_result"
    },
    {
     "data": {
      "image/png": "[encoded data removed]",
      "text/plain": [
       "<matplotlib.figure.Figure at 0x7f27d68>"
      ]
     },
     "metadata": {},
     "output_type": "display_data"
    }
   ],
   "source": [
    "FrontierBot(16).run_maze('test_maze_01.txt')"
   ]
  },
  {
   "cell_type": "markdown",
   "metadata": {},
   "source": [
    "#### PotentialBot\n",
    "While FrontierBot performed well, its performance suffers when attempting larger maps, like custom_maze_03.  PotentialBot gave the best performance on every maze.  This algorithm combines two main ideas.  The initaial potential biases the bot to seek the center, where the goal is, and by updating the potential as the bot explores, and marking dead ends as high potential, the bot explores around obstacles and avoids backtracking too much.\n",
    "\n",
    "Even the very large maze, 'custom_maze_03', with its many dead ends, does not pose a challenge.  "
   ]
  },
  {
   "cell_type": "code",
   "execution_count": 34,
   "metadata": {
    "collapsed": false
   },
   "outputs": [
    {
     "name": "stdout",
     "output_type": "stream",
     "text": [
      "Starting run 0.\n",
      "reset recieved.  Robot actually at  [14, 15]\n",
      "Ending first run. Starting next run.\n",
      "Starting run 1.\n",
      "Goal found; run 1 completed!\n",
      "Task complete! Score: 27.167\n",
      "First run: 245, second run: 19\n"
     ]
    },
    {
     "data": {
      "text/plain": [
       "27.166666666666664"
      ]
     },
     "execution_count": 34,
     "metadata": {},
     "output_type": "execute_result"
    },
    {
     "data": {
      "image/png": "[encoded data removed]",
      "text/plain": [
       "<matplotlib.figure.Figure at 0x78d7dd8>"
      ]
     },
     "metadata": {},
     "output_type": "display_data"
    }
   ],
   "source": [
    "PotentialBot(30).run_maze('custom_maze_03.txt')"
   ]
  },
  {
   "cell_type": "markdown",
   "metadata": {},
   "source": [
    "# Conclusion\n",
    "\n",
    "## Visualization\n",
    "\n",
    "## Reflection\n",
    "\n",
    "## Improvement\n"
   ]
  },
  {
   "cell_type": "code",
   "execution_count": null,
   "metadata": {
    "collapsed": true
   },
   "outputs": [],
   "source": []
  },
  {
   "cell_type": "code",
   "execution_count": 10,
   "metadata": {
    "collapsed": false
   },
   "outputs": [],
   "source": [
    "B1 = BenchmarkBot(12)\n",
    "B2 = BetterBenchmarkBot(12)\n",
    "B3 = ManhattanBot(12)\n",
    "B4 = CautiousBot(12, explore_frac=0)\n",
    "B5 = FrontierBot(12)\n",
    "B6 = PotentialBot(12)"
   ]
  },
  {
   "cell_type": "code",
   "execution_count": 18,
   "metadata": {
    "collapsed": false
   },
   "outputs": [],
   "source": [
    "allmaze = ['test_maze_01.txt', 'test_maze_02.txt', 'test_maze_03.txt',\n",
    "           'open_maze_12.txt', 'custom_maze_02.txt', 'custom_maze_03.txt']\n",
    "allbots = [B1, B2, B3, B4, B5, B6]"
   ]
  },
  {
   "cell_type": "code",
   "execution_count": 26,
   "metadata": {
    "collapsed": false
   },
   "outputs": [
    {
     "name": "stdout",
     "output_type": "stream",
     "text": [
      "test_maze_01.txt: 1032.34\n",
      "test_maze_02.txt: 1033.89\n",
      "test_maze_03.txt: 975.29\n",
      "open_maze_12.txt: 86.47\n",
      "custom_maze_02.txt: 311.50\n",
      "custom_maze_03.txt: 1033.63\n",
      "test_maze_01.txt: 833.91\n",
      "test_maze_02.txt: 638.57\n",
      "test_maze_03.txt: 838.95\n",
      "open_maze_12.txt: 5.35\n",
      "custom_maze_02.txt: 18.14\n",
      "custom_maze_03.txt: 1035.37\n",
      "test_maze_01.txt: 35.40\n",
      "test_maze_02.txt: 40.80\n",
      "test_maze_03.txt: 33.90\n",
      "open_maze_12.txt: 4.27\n",
      "custom_maze_02.txt: 13.70\n",
      "custom_maze_03.txt: 1035.37\n",
      "test_maze_01.txt: 22.79\n",
      "test_maze_02.txt: 32.51\n",
      "test_maze_03.txt: 36.09\n",
      "open_maze_12.txt: 5.17\n",
      "custom_maze_02.txt: 11.80\n",
      "custom_maze_03.txt: 536.50\n",
      "test_maze_01.txt: 19.30\n",
      "test_maze_02.txt: 30.33\n",
      "test_maze_03.txt: 31.93\n",
      "open_maze_12.txt: 4.67\n",
      "custom_maze_02.txt: 13.10\n",
      "custom_maze_03.txt: 48.63\n",
      "test_maze_01.txt: 21.93\n",
      "test_maze_02.txt: 30.27\n",
      "test_maze_03.txt: 28.90\n",
      "open_maze_12.txt: 4.17\n",
      "custom_maze_02.txt: 10.13\n",
      "custom_maze_03.txt: 27.17\n"
     ]
    }
   ],
   "source": [
    "import pandas as pd\n",
    "names = []\n",
    "results = []\n",
    "for B in allbots:\n",
    "    score = B.test(trials=10, maze_list=allmaze)\n",
    "    name = B.__class__\n",
    "    names.append(str(name).split('.')[1].rstrip(\"'>\"))\n",
    "    results.append(score)\n",
    "    \n",
    "names.append('Shortest Path')\n",
    "results.append(dict(zip(allmaze, [17,22,25,4,8,19])))\n",
    "    \n",
    "table = pd.DataFrame(index=names, data=results, columns=allmaze)"
   ]
  },
  {
   "cell_type": "code",
   "execution_count": 59,
   "metadata": {
    "collapsed": false
   },
   "outputs": [],
   "source": [
    "def show_mazes(maze_list):\n",
    "    ML = [Maze(l) for l in maze_list]\n",
    "    w = 12\n",
    "    h = 12 / len(ML)\n",
    "    fig, ax = plt.subplots(1, len(ML), figsize=(w,h))\n",
    "    for i,M in enumerate(ML):\n",
    "        for x in range(M.dim):\n",
    "            for y in range(M.dim):\n",
    "                ax[i].axis('off')\n",
    "                ax[i].text(0, M.dim*(-1/8), maze_list[i], fontsize=16)\n",
    "                #ax[i].title()\n",
    "                if not M.is_permissible([x,y], 'up'):\n",
    "                    ax[i].plot([x-0.5, x+0.5], [y+0.5, y+0.5], 'k-', linewidth=3)\n",
    "                if not M.is_permissible([x,y], 'down'):\n",
    "                    ax[i].plot([x-0.5, x+0.5], [y-0.5, y-0.5], 'k-', linewidth=3)\n",
    "                if not M.is_permissible([x,y], 'right'):\n",
    "                    ax[i].plot([x+0.5, x+0.5], [y-0.5, y+0.5], 'k-', linewidth=3)\n",
    "                if not M.is_permissible([x,y], 'left'):\n",
    "                    ax[i].plot([x-0.5, x-0.5], [y-0.5, y+0.5], 'k-', linewidth=3)"
   ]
  },
  {
   "cell_type": "code",
   "execution_count": 60,
   "metadata": {
    "collapsed": false
   },
   "outputs": [
    {
     "data": {
      "image/png": "[encoded data removed]",
      "text/plain": [
       "<matplotlib.figure.Figure at 0xc41c6a0>"
      ]
     },
     "metadata": {},
     "output_type": "display_data"
    }
   ],
   "source": [
    "show_mazes(['test_maze_01.txt', 'test_maze_02.txt', 'test_maze_03.txt'])"
   ]
  },
  {
   "cell_type": "code",
   "execution_count": 70,
   "metadata": {
    "collapsed": true
   },
   "outputs": [],
   "source": []
  },
  {
   "cell_type": "code",
   "execution_count": 136,
   "metadata": {
    "collapsed": false
   },
   "outputs": [],
   "source": [
    "graph = {(i,j): set() for i in range(12) for j in range(12)}\n",
    "size = 12\n",
    "for i in range(12):\n",
    "    for j in range(12):\n",
    "        if (i,j) == (5,0):\n",
    "            neigh = [(i, j-1), (i, j+1)]\n",
    "        elif j not in [0,1,11,10]:\n",
    "            neigh = [(i, j-1), (i, j+1)]\n",
    "        else:\n",
    "            neigh = [(i+1, j), (i-1, j), (i, j-1), (i, j+1)]\n",
    "        for n in neigh:\n",
    "            if n[0] in range(size) and n[1] in range(size):\n",
    "                graph[(i,j)].add(n)\n",
    "                graph[n].add((i,j))\n",
    "\n",
    "lo, hi = size//2 - 1, size // 2  \n",
    "goal_sq = [(lo,lo), (lo,hi), (hi,lo), (hi,hi)]\n",
    "for i in range(4):\n",
    "    for g in goal_sq[:i] + goal_sq[i+1:]:\n",
    "        graph[goal_sq[i]].add(g)\n",
    "        \n",
    "for p1, p2 in [[(5,0), (6,0)], [(5,1), (6,1)], [(5,10),(5,9)], [(1,0),(2,0)], [(1,1),(2,1)],\n",
    "              [(3,1),(3,2)],[(2,10),(2,9)], [(5,10), (6,10)]]:\n",
    "    graph[p1].remove(p2)\n",
    "    graph[p2].remove(p1)"
   ]
  },
  {
   "cell_type": "code",
   "execution_count": null,
   "metadata": {
    "collapsed": true
   },
   "outputs": [],
   "source": [
    "17,22,25,4,8,"
   ]
  },
  {
   "cell_type": "code",
   "execution_count": 30,
   "metadata": {
    "collapsed": false
   },
   "outputs": [],
   "source": [
    "CB = CautiousBot(12,explore_frac=0.4)"
   ]
  },
  {
   "cell_type": "code",
   "execution_count": 33,
   "metadata": {
    "collapsed": false
   },
   "outputs": [
    {
     "name": "stdout",
     "output_type": "stream",
     "text": [
      "Starting run 0.\n",
      "reset recieved.  Robot actually at  [12, 25]\n",
      "Ending first run. Starting next run.\n",
      "Starting run 1.\n",
      "Goal found; run 1 completed!\n",
      "Task complete! Score: 50.200\n",
      "First run: 936, second run: 19\n"
     ]
    },
    {
     "data": {
      "text/plain": [
       "50.2"
      ]
     },
     "execution_count": 33,
     "metadata": {},
     "output_type": "execute_result"
    },
    {
     "data": {
      "image/png": "[encoded data removed]",
      "text/plain": [
       "<matplotlib.figure.Figure at 0x9edf5f8>"
      ]
     },
     "metadata": {},
     "output_type": "display_data"
    }
   ],
   "source": [
    "CB.run_maze(m)"
   ]
  },
  {
   "cell_type": "code",
   "execution_count": null,
   "metadata": {
    "collapsed": true
   },
   "outputs": [],
   "source": []
  }
 ],
 "metadata": {
  "kernelspec": {
   "display_name": "Python 3",
   "language": "python",
   "name": "python3"
  },
  "language_info": {
   "codemirror_mode": {
    "name": "ipython",
    "version": 3
   },
   "file_extension": ".py",
   "mimetype": "text/x-python",
   "name": "python",
   "nbconvert_exporter": "python",
   "pygments_lexer": "ipython3",
   "version": "3.4.4"
  }
 },
 "nbformat": 4,
 "nbformat_minor": 0
}
